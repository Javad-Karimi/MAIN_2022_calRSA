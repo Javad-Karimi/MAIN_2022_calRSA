{
  "cells": [
    {
      "cell_type": "markdown",
      "metadata": {
        "id": "view-in-github",
        "colab_type": "text"
      },
      "source": [
        "<a href=\"https://colab.research.google.com/github/jquinnlee/MAIN_2022_calRSA/blob/main/MAIN2022_calciumRSA_demo.ipynb\" target=\"_parent\"><img src=\"https://colab.research.google.com/assets/colab-badge.svg\" alt=\"Open In Colab\"/></a>"
      ]
    },
    {
      "cell_type": "code",
      "execution_count": 1,
      "metadata": {
        "cellView": "form",
        "colab": {
          "base_uri": "https://localhost:8080/"
        },
        "id": "jZ08OaqABaFk",
        "outputId": "e2c6df22-8854-4781-bb78-c1214053fd84"
      },
      "outputs": [
        {
          "output_type": "stream",
          "name": "stdout",
          "text": [
            "  % Total    % Received % Xferd  Average Speed   Time    Time     Time  Current\n",
            "                                 Dload  Upload   Total   Spent    Left  Speed\n",
            "100   134    0   134    0     0    392      0 --:--:-- --:--:-- --:--:--   394\n",
            "100   276  100   276    0     0    227      0  0:00:01  0:00:01 --:--:--     0\n",
            "100 8549M  100 8549M    0     0  98.7M      0  0:01:26  0:01:26 --:--:--  120M\n",
            "Archive:  ./data.zip\n",
            "warning:  stripped absolute path spec from /\n",
            "mapname:  conversion of  failed\n",
            " extracting: QLAK-CA1-50             \n",
            " extracting: QLAK-CA1-50_SHR_pvals   \n"
          ]
        }
      ],
      "source": [
        "#@title **Download data from Dropbox (run at start of new session)**\n",
        "# download data from dropbox folder as a zip file\n",
        "!curl -L https://www.dropbox.com/sh/kc839i4qtxct4vg/AACOQ-UDwlrMen1Gg7WDcT0oa?dl=0 > data.zip\n",
        "# unzip file\n",
        "!unzip ./data.zip"
      ]
    },
    {
      "cell_type": "code",
      "execution_count": 1,
      "metadata": {
        "cellView": "form",
        "id": "yboSPNomBi6b"
      },
      "outputs": [],
      "source": [
        "#@title **Import required python libraries**\n",
        "# required libraries\n",
        "from glob import glob\n",
        "import numpy as np\n",
        "import os\n",
        "import matplotlib.pyplot as plt\n",
        "import seaborn as sns\n",
        "from tqdm import tqdm\n",
        "from scipy.ndimage import gaussian_filter, gaussian_filter1d\n",
        "import joblib\n",
        "from copy import deepcopy\n",
        "import torch\n",
        "from scipy.stats import pearsonr\n",
        "from sklearn.manifold import MDS\n",
        "import matplotlib.path as mpath\n",
        "import matplotlib.patches as patches\n",
        "import matplotlib as mpl"
      ]
    },
    {
      "cell_type": "code",
      "execution_count": 2,
      "metadata": {
        "cellView": "form",
        "id": "mNaql6avgirg"
      },
      "outputs": [],
      "source": [
        "#@title **Define helper functions**\n",
        "\n",
        "def load_dat(animal, p='/content'):\n",
        "    print(f'Loading preprocessed data for animal {animal}')\n",
        "    return joblib.load(os.path.join(p, animal))\n",
        "\n",
        "\n",
        "def plot_traces_position(data, animal, examples_days,\n",
        "                         n_frames_incl=int(30 * 60 * 1)):\n",
        "  for day in example_days:\n",
        "    sns.set(style='dark')\n",
        "    plt.figure(figsize=(20, 7))\n",
        "    ax = plt.subplot(211)\n",
        "    ax.plot(data[animal]['position'][day][0, :n_frames_incl], linewidth=2.5)\n",
        "    ax.plot(data[animal]['position'][day][1, :n_frames_incl], linewidth=2.5)\n",
        "    ax.set_xticks([])\n",
        "    ax.set_yticks(np.arange(25, 76, 25))\n",
        "    ax.set_xlim([0, n_frames_incl])\n",
        "    ax.set_ylim([0, 75])\n",
        "    ax.set_ylabel('Head position (cm)')\n",
        "    plt.legend(['x position', 'y position'], loc='upper left')\n",
        "    ax = plt.subplot(212)\n",
        "    cell_idx = np.any(~np.isnan(data[animal]['trace'][day]), axis=1)\n",
        "    mappable = ax.imshow(data[animal]['trace'][day][cell_idx, :n_frames_incl],\n",
        "                        cmap='binary', origin='lower')\n",
        "    ax.set_aspect(.5e4*(75/n_frames_incl)/cell_idx.sum())\n",
        "    ax.set_xlabel('Time (30 Hz)')\n",
        "    ax.set_ylabel('Neuron')\n",
        "    plt.subplots_adjust(hspace=0)\n",
        "    plt.suptitle(f'Day {day+1}\\n(first {n_frames_incl} frames)')\n",
        "    plt.show()\n",
        "\n",
        "\n",
        "def plot_example_maps(cell_idx, example_maps, example_frs, num_examples=10):\n",
        "  for cell in cell_idx[:num_examples]:\n",
        "    plt.figure(figsize=(6,30))\n",
        "    ax1, ax2, ax3, ax4 = plt.subplot(141), plt.subplot(142), plt.subplot(143), \\\n",
        "      plt.subplot(144)\n",
        "    ax1.imshow(example_maps[:, :, cell, 0], cmap='jet')\n",
        "    ax1.set_xticks([])\n",
        "    ax1.set_xlabel(f'{example_frs[0, cell]:.2f} Hz')\n",
        "    ax1.set_yticks([])\n",
        "    ax1.set_title('day 1', weight='bold')\n",
        "    ax1.set_ylabel(f'neuron {cell}', weight='bold')\n",
        "    ax2.imshow(example_maps[:, :, cell, 1], cmap='jet')\n",
        "    ax2.set_xticks([])\n",
        "    ax2.set_xlabel(f'{example_frs[1, cell]:.2f} Hz')\n",
        "    ax2.set_yticks([])\n",
        "    ax2.set_title('day 11', weight='bold')\n",
        "    ax3.imshow(example_maps[:, :, cell, 2], cmap='jet')\n",
        "    ax3.set_xticks([])\n",
        "    ax3.set_xlabel(f'{example_frs[2, cell]:.2f} Hz')\n",
        "    ax3.set_yticks([])\n",
        "    ax3.set_title('day 21', weight='bold')\n",
        "    mappable = ax4.imshow(example_maps[:, :, cell, 3], cmap='jet')\n",
        "    ax4.set_xticks([])\n",
        "    ax4.set_xlabel(f'{example_frs[3, cell]:.2f} Hz')\n",
        "    ax4.set_yticks([])\n",
        "    ax4.set_title('day 31', weight='bold')\n",
        "    plt.show()\n",
        "\n",
        "\n",
        "def get_environment_label(env_name):\n",
        "    '''\n",
        "    get_environment label will return a custom maker from environment name as input that can be used for plotting\n",
        "    '''\n",
        "    # First draw vertices that will create the shape of the environment based on input name (env names in weirdGeos dat)\n",
        "    if env_name == 'square':\n",
        "        polys = np.array([[0, 0], [0, 30], [30, 30], [30, 0], [0, 0]])-15\n",
        "    elif env_name == 'o':\n",
        "        polys = np.array([[0, 0], [0, 30], [21, 30], [21, 21], [10, 21], [10, 10], [21, 10], [21, 30], [30, 30],\n",
        "                          [30, 0], [0, 0]])-15\n",
        "    elif env_name == 't':\n",
        "        polys = np.array([[0, 10], [21, 10], [21, 0], [30, 0], [30, 30], [21, 30], [21, 21], [0, 21]])-15\n",
        "    elif env_name == 'u':\n",
        "        polys = np.array([[0, 0], [0, 30], [10, 30], [10, 10], [20, 10], [20, 30], [30, 30], [30, 0], [0, 0]]) -15\n",
        "    elif env_name == 'rectangle':\n",
        "        polys = np.array([[0, 10], [0, 30], [30, 30], [30, 10], [0, 10]]) - 15\n",
        "    elif env_name == '+':\n",
        "        polys = np.array([[0, 10], [10, 10], [10, 0], [21, 0], [21, 10], [30, 10], [30, 21], [21, 21], [21, 30],\n",
        "                          [10, 30], [10, 21], [0, 21], [0, 10]]) - 15\n",
        "    elif env_name == 'i':\n",
        "        polys = np.array([[0, 0], [10, 0], [10, 10], [21, 10], [21, 0], [30, 0], [30, 30], [21, 30], [21, 21],\n",
        "                          [10, 21], [10, 30], [0, 30], [0, 0]]) - 15\n",
        "    elif env_name == 'l':\n",
        "        polys = np.array([[0, 0], [0, 30], [10, 30], [10, 10], [30, 10], [30, 0], [0, 0]]) - 15\n",
        "    elif env_name == 'bit donut':\n",
        "        polys = np.array([[0, 0], [0, 30], [21, 30], [21, 21], [10, 21], [10, 10], [21, 10], [21, 30], [30, 30],\n",
        "                          [30, 10], [21, 10], [21, 0], [0, 0]]) - 15\n",
        "    elif env_name == 'glenn':\n",
        "        polys = np.array([[0, 10], [0, 30], [21, 30], [21, 21], [30, 21], [30, 0], [10, 0], [10, 10], [0, 10]]) - 15\n",
        "\n",
        "    # Use Path function to create image path that matplotlib can use for plotting with\n",
        "    return mpath.Path(polys), polys\n",
        "\n",
        "\n",
        "def plot_rsm_mds(rsm, metric=True):\n",
        "    envs = rsm['envs']\n",
        "    animal = rsm['animal']\n",
        "    sns.set(style='dark', font_scale=1.25)\n",
        "    plt.figure(figsize=(22, 12))\n",
        "    target_rsms = [deepcopy(rsm['firing_rate']),\n",
        "                   deepcopy(rsm['rate_map']),\n",
        "                   deepcopy(rsm['trace'])]\n",
        "    env_markers = [get_environment_label(env)[0] for env in envs]\n",
        "    env_polys = [get_environment_label(env)[1] for env in envs]\n",
        "    for i, target_rsm in enumerate(target_rsms):\n",
        "        np.random.seed(2022)\n",
        "        # embed components in 2d w MDS\n",
        "        if metric:\n",
        "            MDS_model = MDS(n_components=2, metric=True, dissimilarity='precomputed',\n",
        "                            eps=1e-10, max_iter=1000, n_init=100, n_jobs=6)\n",
        "        else:\n",
        "            MDS_model = MDS(n_components=2, metric=False, dissimilarity='precomputed',\n",
        "                            eps=1e-10, max_iter=1000, n_init=100, n_jobs=6)\n",
        "        embeddings = MDS_model.fit_transform(1 - target_rsm)\n",
        "        cmap = mpl.cm.get_cmap('viridis')\n",
        "        ax = plt.subplot(2, 3, i + 4)\n",
        "        # plot the lines for each shape to be connected\n",
        "        for j in range(embeddings.shape[0]):\n",
        "            ax.scatter(embeddings[j, 0], embeddings[j, 1], s=150, marker=env_markers[j], alpha=1,\n",
        "                       color=cmap(j/embeddings.shape[0]))\n",
        "\n",
        "        for env in envs[:11]:\n",
        "            ax.plot(embeddings[np.where(envs == env)[0], 0],\n",
        "                    embeddings[np.where(envs == env)[0], 1],\n",
        "                    alpha=.6, linewidth=1.5, linestyle=':', color='k')\n",
        "        ax.set_xlabel('MDS Dim 1 (abu)')\n",
        "        ax.set_ylabel('MDS Dim 2 (abu)')\n",
        "        cent = np.mean(embeddings, axis=0)\n",
        "        minmax = np.amax(embeddings) - np.amin(embeddings)\n",
        "        ax.set_xlim([cent[0] - .7 * minmax, cent[0] + .7 * minmax])\n",
        "        ax.set_xticks(np.linspace(-1, 1, 5))\n",
        "        ax.set_yticks(np.linspace(-1, 1, 5))\n",
        "        ax.set_ylim([cent[1] - .7 * minmax, cent[1] + .7 * minmax])\n",
        "        ax.set_aspect('equal')\n",
        "        ax.set_title(f'stress: {MDS_model.stress_:.3f}', fontdict={'size': 12})\n",
        "\n",
        "        # plot each rsm on every other subplot (vertical)\n",
        "        # first plot average rate map correlation\n",
        "        ax = plt.subplot(2, 3, i + 1)\n",
        "        temp_target_rsm = deepcopy(target_rsm)\n",
        "        temp_target_rsm[np.eye(temp_target_rsm.shape[0]).astype(bool)] = np.nan\n",
        "        mappable = ax.imshow(temp_target_rsm, vmin=0, vmax=.65, cmap='inferno')\n",
        "        cbar = plt.colorbar(mappable, shrink=1)\n",
        "        cbar.ax.set_title('R')\n",
        "        ax.set_xticks(np.arange(len(env_polys)))\n",
        "        ax.set_xticklabels([])\n",
        "        ax.set_yticks(np.arange(len(env_polys)))\n",
        "        ax.set_yticklabels([])\n",
        "        tick_labels = ax.xaxis.get_ticklabels()\n",
        "        # shape tick params for plotting\n",
        "        tickypos = 31.5\n",
        "        tickxpos = -2.\n",
        "        label_scale = .023\n",
        "        for j, tick in enumerate(tick_labels):\n",
        "            ax.add_patch(patches.PathPatch(mpath.Path(env_polys[j] * label_scale + np.array([j, tickypos])),\n",
        "                                           clip_on=False, facecolor='b', edgecolor='b'))\n",
        "            ax.add_patch(patches.PathPatch(mpath.Path(env_polys[j] * label_scale + np.array([tickxpos, j])),\n",
        "                                           clip_on=False, facecolor='b', edgecolor='b'))\n",
        "        if i == 0:\n",
        "            ax.set_title(f'{animal}\\nFiring rate correlation',\n",
        "                         fontdict={'weight': 'semibold', 'size': 16})\n",
        "        elif i == 1:\n",
        "            ax.set_title(f'{animal}\\nRate map correlation',\n",
        "                         fontdict={'weight': 'semibold', 'size': 16})\n",
        "        elif i == 2:\n",
        "            ax.set_title(f'{animal}\\nTrace co-activity',\n",
        "                         fontdict={'weight': 'semibold', 'size': 16})\n",
        "    plt.subplots_adjust(hspace=.4, wspace=.1)\n",
        "    plt.show()"
      ]
    },
    {
      "cell_type": "code",
      "execution_count": 3,
      "metadata": {
        "colab": {
          "base_uri": "https://localhost:8080/"
        },
        "id": "ByhSui-OWBh2",
        "outputId": "834b888c-62e0-42e7-f8ba-8bfb0d992542"
      },
      "outputs": [
        {
          "output_type": "stream",
          "name": "stdout",
          "text": [
            "Loading preprocessed data for animal QLAK-CA1-50\n"
          ]
        }
      ],
      "source": [
        "# load data to python dictionary\n",
        "animal = 'QLAK-CA1-50'\n",
        "data = load_dat(animal)"
      ]
    },
    {
      "cell_type": "code",
      "execution_count": 8,
      "metadata": {
        "id": "0Tl14nYcqwYX"
      },
      "outputs": [],
      "source": [
        "# Print out the dimensions of data and to what each dimension correspond\n",
        "\n",
        "print('\\nCalcium trace data have dimensions days, cells, frames: {}\\n'.format(\n",
        "    data[animal]['trace'].shape))\n",
        "\n",
        "'''\n",
        "Complete fields below to print out position and rate map data shape\n",
        "based on example above (answers are provided below if needed).\n",
        "'''\n",
        "\n",
        "print('Position data have dimensions days, x-y position, frames: {}\\n'.format(\n",
        "    data[][].shape))\n",
        "\n",
        "print('Rate maps have dimensions x-bins, y-bins, cells, days: {}\\n'.format(\n",
        "    data[][][].shape))"
      ]
    },
    {
      "cell_type": "code",
      "source": [
        "#@title ####*Answers*\n",
        "# print('\\nCalcium trace data have dimensions days, cells, frames: {}\\n'.format(\n",
        "#     data[animal]['trace'].shape))\n",
        "# print('Position data have dimensions days, x-y position, frames: {}\\n'.format(\n",
        "#     data[animal]['position'].shape))\n",
        "# print('Rate maps have dimensions x-bins, y-bins, cells, days: {}\\n'.format(\n",
        "#     data[animal]['maps']['smoothed'].shape))"
      ],
      "metadata": {
        "cellView": "form",
        "id": "VHFP_05Rw1nG"
      },
      "execution_count": 7,
      "outputs": []
    },
    {
      "cell_type": "markdown",
      "metadata": {
        "id": "96IQ9_WkrTpX"
      },
      "source": [
        "### **Plot position and trace data from the first minutes of some sessions**"
      ]
    },
    {
      "cell_type": "code",
      "execution_count": 67,
      "metadata": {
        "id": "_y4clfYprA3E"
      },
      "outputs": [],
      "source": [
        "# plot example trace and position data data from first 2 minutes of square days\n",
        "\n",
        "'''\n",
        "***\n",
        "Indicate square days in \"example_days\" as tuple\n",
        "***\n",
        "'''\n",
        "\n",
        "example_days = ()\n",
        "plot_traces_position(data, animal, example_days)"
      ]
    },
    {
      "cell_type": "code",
      "execution_count": 8,
      "metadata": {
        "id": "c99MZRLVeB_J"
      },
      "outputs": [],
      "source": [
        "# Calculate average firing rate of all cells on each day\n",
        "fps = 30\n",
        "\n",
        "mean_firing_rates = np.zeros(data[animal]['trace'].shape[:2])\n",
        "for day, traces in enumerate(data[animal]['trace']):\n",
        "  \n",
        "  '''\n",
        "  ***\n",
        "  Calculate average firing rate from trace data on each day across target axis.\n",
        "  ***\n",
        "  '''\n",
        "  \n",
        "  mean_firing_rates[day] = "
      ]
    },
    {
      "cell_type": "code",
      "source": [
        "#@title #### *answers*\n",
        "# # Calculate average firing rate of all cells on each day\n",
        "# fps = 30\n",
        "\n",
        "# mean_firing_rates = np.zeros(data[animal]['trace'].shape[:2])\n",
        "# for day, traces in enumerate(data[animal]['trace']):\n",
        "#   '''\n",
        "#   Calculate average of trace data on each day across target axis.\n",
        "#   '''\n",
        "#   mean_firing_rates[day] = np.mean(traces, axis=1) * fps"
      ],
      "metadata": {
        "cellView": "form",
        "id": "-thqFJAcyp_f"
      },
      "execution_count": 69,
      "outputs": []
    },
    {
      "cell_type": "code",
      "execution_count": 70,
      "metadata": {
        "id": "sgQEux-OerrR"
      },
      "outputs": [],
      "source": [
        "# Visualize the distribution of mean firing rates across sessions\n",
        "sns.set(style='darkgrid', font_scale=1.5)\n",
        "plt.figure(figsize=(10,8))\n",
        "ax = plt.subplot()\n",
        "sns.boxplot(data=mean_firing_rates.T, linewidth=2.5, width=.6, fliersize=2,\n",
        "            notch=True, palette='magma')\n",
        "ax.set_xticks(np.arange(0, mean_firing_rates.shape[0], 2))\n",
        "ax.set_xticklabels(np.arange(1, mean_firing_rates.shape[0] + 1, 2))\n",
        "ax.set_ylabel('Mean activity rate (Hz)', weight='bold')\n",
        "ax.set_xlabel('Day', weight='bold')\n",
        "plt.show()"
      ]
    },
    {
      "cell_type": "markdown",
      "source": [
        "### (Optional) Load computed spatial reliability measures for detecting place cells"
      ],
      "metadata": {
        "id": "a60cJfVLrZNO"
      }
    },
    {
      "cell_type": "code",
      "source": [
        "# load spatial reliability p values for all cells\n",
        "'''\n",
        "***\n",
        "load in p values from split-half spatial reliability measure\n",
        "(take a look at files loaded into 'content' folder)\n",
        "***\n",
        "'''\n",
        "p_vals = joblib.load()"
      ],
      "metadata": {
        "id": "v6Jzv4eNrA0P"
      },
      "execution_count": 10,
      "outputs": []
    },
    {
      "cell_type": "code",
      "source": [
        "#@title ####*answer*\n",
        "# load spatial reliability p values for all cells\n",
        "p_vals = joblib.load(f'{animal}_SHR_pvals')"
      ],
      "metadata": {
        "cellView": "form",
        "id": "rDKyncN5zXpG"
      },
      "execution_count": 9,
      "outputs": []
    },
    {
      "cell_type": "markdown",
      "metadata": {
        "id": "YixN3OVomS-6"
      },
      "source": [
        "### **Plot some example rate maps from repeating squares**"
      ]
    },
    {
      "cell_type": "code",
      "execution_count": 2,
      "metadata": {
        "id": "4BLHlSnwsh-A"
      },
      "outputs": [],
      "source": [
        "# grab the rate maps of square days (1, 11, 21, and 31)\n",
        "example_maps = deepcopy(data[animal]['maps']['smoothed'][:, :, :, example_days])\n",
        "example_frs = deepcopy(mean_firing_rates[example_days, :])\n",
        "# determine which cells are registered on every square day\n",
        "cell_idx = np.where(~np.isnan(example_frs.sum(0)))[0]"
      ]
    },
    {
      "cell_type": "code",
      "execution_count": 3,
      "metadata": {
        "id": "ZhXiQkAHsuEV"
      },
      "outputs": [],
      "source": [
        "# plot the first 10 example cells\n",
        "num_example_cells = 10\n",
        "plot_example_maps(cell_idx, example_maps, example_frs, num_example_cells)"
      ]
    },
    {
      "cell_type": "markdown",
      "metadata": {
        "id": "MgGkgE7YeK0i"
      },
      "source": [
        "### **Calculate average firing rate correlations, spatial rate map correlations, and trace correlations across all days**"
      ]
    },
    {
      "cell_type": "code",
      "execution_count": null,
      "metadata": {
        "id": "kZNAyulYfc_6"
      },
      "outputs": [],
      "source": [
        "# Cross-correlate firing rates of registered cells across all days\n",
        "n_days = mean_firing_rates.shape[0]\n",
        "# Initialize the rsm, which have the shape (n_days, n_days)\n",
        "mean_fr_rsm = np.zeros([n_days, n_days])\n",
        "# Iterate through all pairs of days\n",
        "for d1, fr1 in enumerate(mean_firing_rates):\n",
        "  for d2, fr2 in enumerate(mean_firing_rates):\n",
        "    # Mask out cells that are not registered on both target days\n",
        "\n",
        "    '''\n",
        "    ***\n",
        "    Create boolean mask to determine which cells are registered on both days.\n",
        "    ***\n",
        "    '''\n",
        "\n",
        "    reg_mask = \n",
        "\n",
        "    '''\n",
        "    ***\n",
        "    Calculate the pearson correlation of firing rates between all cells\n",
        "    registered on the pair of target days\n",
        "    ***\n",
        "    '''\n",
        "    \n",
        "    mean_fr_rsm[d1, d2] = "
      ]
    },
    {
      "cell_type": "code",
      "source": [
        "#@title ####*answers*\n",
        "# # Cross-correlate firing rates of registered cells across all days\n",
        "# n_days = mean_firing_rates.shape[0]\n",
        "# # Initialize the rsm, which have the shape (n_days, n_days)\n",
        "# mean_fr_rsm = np.zeros([n_days, n_days])\n",
        "# # Iterate through all pairs of days\n",
        "# for d1, fr1 in enumerate(mean_firing_rates):\n",
        "#   for d2, fr2 in enumerate(mean_firing_rates):\n",
        "#     # Mask out cells that are not registered on both target days\n",
        "#     reg_mask = ~np.isnan(fr1 + fr2)\n",
        "#     # Calculate the pearson correlation of firing rates between all cells\n",
        "#     # registered on the pair of target days\n",
        "#     mean_fr_rsm[d1, d2] = pearsonr(fr1[reg_mask], fr2[reg_mask])[0]"
      ],
      "metadata": {
        "cellView": "form",
        "id": "iuM5mrVT2c6O"
      },
      "execution_count": null,
      "outputs": []
    },
    {
      "cell_type": "markdown",
      "source": [
        "###**Plot our first representational similarity matrix (RSM)!**"
      ],
      "metadata": {
        "id": "458VC-OU3GTW"
      }
    },
    {
      "cell_type": "code",
      "execution_count": 4,
      "metadata": {
        "id": "k3C3ird_k4Fa"
      },
      "outputs": [],
      "source": [
        "sns.set(style='dark', font_scale=1.5)\n",
        "plt.figure(figsize=(10,10))\n",
        "ax = plt.subplot()\n",
        "mappable = ax.imshow(mean_fr_rsm, vmin=0, vmax=1, cmap='inferno')\n",
        "ax.set_ylabel('Day', weight='bold')\n",
        "ax.set_xlabel('Day', weight='bold')\n",
        "ax.set_title('Mean Firing Rate Correlation', weight='bold')\n",
        "ax.set_xticks(np.arange(0, n_days, 5))\n",
        "ax.set_xticklabels(np.arange(1, n_days + 1, 5))\n",
        "ax.set_yticks(np.arange(0, n_days, 5))\n",
        "ax.set_yticklabels(np.arange(1, n_days + 1, 5))\n",
        "cbar = plt.colorbar(mappable, shrink=.75)\n",
        "cbar.ax.set_title('R', weight='bold')\n",
        "plt.show()"
      ]
    },
    {
      "cell_type": "markdown",
      "metadata": {
        "id": "h5ASXtDd6Frm"
      },
      "source": [
        "### **Correlate pairs of maps from registered cells across days (not including unsampled spatial bins across days)**"
      ]
    },
    {
      "cell_type": "code",
      "execution_count": 5,
      "metadata": {
        "id": "bHn97A4t6E_H"
      },
      "outputs": [],
      "source": [
        "def get_cell_rsm(maps, down_sample_mask=None, unsmoothed=False, d_thresh=0):\n",
        "    # first load in either smoothed or unsmoothed rate maps depending on input arg\n",
        "    if unsmoothed:\n",
        "        # when loading in transpose the maps such that the cell and day axes come first\n",
        "        maps = deepcopy(maps['unsmoothed']).transpose((2, 3, 0, 1))\n",
        "    else:\n",
        "        maps = deepcopy(maps['smoothed']).transpose((2, 3, 0, 1))\n",
        "    # then use a down-sampling mask to nan out cells if down_sample_mask is\n",
        "    # provided with a masking (ncells, ndays)\n",
        "    if down_sample_mask:\n",
        "        maps[~down_sample_mask] = np.nan\n",
        "    # transpose the rate maps back to their original order (xdim, ydim, ncell, ndays)\n",
        "    maps = maps.transpose((2, 3, 0, 1))\n",
        "    n_days = maps.shape[-1]\n",
        "    # flatten the rate maps\n",
        "    flat_maps = maps.reshape(maps.shape[0] * maps.shape[1], maps.shape[2], maps.shape[3])\n",
        "    # create a mask to avoid correlating nans\n",
        "    nan_idx = np.isnan(flat_maps)\n",
        "    reg_idx = np.any(~nan_idx, axis=0)\n",
        "    cell_idx = np.where(reg_idx.sum(axis=1) >= d_thresh)[0]\n",
        "    cell_rsm = np.zeros([n_days, n_days, cell_idx.shape[0]])\n",
        "    for c, cell in tqdm(enumerate(cell_idx), leave=True, position=0,\n",
        "                        desc='Correlating ratemaps across days and cell pairs'):\n",
        "        for s1 in range(n_days):\n",
        "            for s2 in range(n_days):\n",
        "                s1_map, s2_map = flat_maps[:, cell, s1], flat_maps[:, cell, s2]\n",
        "                if np.any(~np.isnan(s1_map)) and np.any(~np.isnan(s2_map)):\n",
        "                    nan_mask = ~np.isnan(np.vstack((s1_map, s2_map)).sum(axis=0))\n",
        "                    cell_rsm[s1, s2, c] = pearsonr(s1_map[nan_mask],\n",
        "                                                      s2_map[nan_mask])[0]\n",
        "                else:\n",
        "                    cell_rsm[s1, s2, c] = np.nan\n",
        "    return cell_rsm, cell_idx"
      ]
    },
    {
      "cell_type": "code",
      "execution_count": 7,
      "metadata": {
        "id": "tdoJqiA37LC4"
      },
      "outputs": [],
      "source": [
        "'''\n",
        "***\n",
        "Call get_cell_rsm function and provide ratemap input to return cell-wise rsm\n",
        "***\n",
        "'''\n",
        "cellwise_rsm, _ = \n",
        "\n",
        "\n",
        "'''\n",
        "***\n",
        "Compute average ratemap correlation across appropriate axis from cell-wise rsm\n",
        "***\n",
        "'''\n",
        "\n",
        "rate_map_rsm = "
      ]
    },
    {
      "cell_type": "code",
      "source": [
        "#@title ###*answers*\n",
        "\n",
        "# cellwise_rsm, _ = get_cell_rsm(data[animal]['maps'])\n",
        "\n",
        "# rate_map_rsm = np.nanmean(cellwise_rsm, axis=2)"
      ],
      "metadata": {
        "cellView": "form",
        "id": "wa1qDFsY40t_"
      },
      "execution_count": 8,
      "outputs": []
    },
    {
      "cell_type": "markdown",
      "source": [
        "### **Plot the rate-map based RSM result**"
      ],
      "metadata": {
        "id": "yGyuEx3E5R4F"
      }
    },
    {
      "cell_type": "code",
      "execution_count": 9,
      "metadata": {
        "id": "gTvGVk5y8qSH"
      },
      "outputs": [],
      "source": [
        "sns.set(style='dark', font_scale = 2.)\n",
        "plt.figure(figsize=(10, 10))\n",
        "ax = plt.subplot()\n",
        "mappable = ax.imshow(rate_map_rsm, vmin=0, vmax=.7, cmap='inferno')\n",
        "ax.set_xticks(np.arange(0, n_days, 5))\n",
        "ax.set_xticklabels(np.arange(1, n_days + 1, 5))\n",
        "ax.set_yticks(np.arange(0, n_days, 5))\n",
        "ax.set_yticklabels(np.arange(1, n_days + 1, 5))\n",
        "ax.set_title('Average ratemap correlation', weight='bold')\n",
        "ax.set_ylabel('Day', weight='bold')\n",
        "ax.set_xlabel('Day', weight='bold')\n",
        "cbar = plt.colorbar(mappable, shrink=.7)\n",
        "cbar.ax.set_title('R', weight='bold')\n",
        "plt.show()"
      ]
    },
    {
      "cell_type": "markdown",
      "metadata": {
        "id": "wZa3bnB4xfcg"
      },
      "source": [
        "### **Cross-correlate activity between registered neurons on two days, and**\n",
        "### **determine how similar this *pattern of coactivity* is across the two days**"
      ]
    },
    {
      "cell_type": "code",
      "execution_count": 10,
      "metadata": {
        "id": "mgXzL0Xvk6zK"
      },
      "outputs": [],
      "source": [
        "# pick first example pair of days that are from same shape (delay of 10 days)\n",
        "target_days = np.array([13, 23])\n",
        "# mask out cells that are not registered on both days\n",
        "reg_mask = ~np.isnan(data[animal]['trace'][target_days].sum(0).sum(1))\n",
        "# cross-correlate activity between all pairs of cells\n",
        "trace_corr1 = np.corrcoef(data[animal]['trace'][target_days[0], reg_mask])\n",
        "trace_corr2 = np.corrcoef(data[animal]['trace'][target_days[1], reg_mask])\n",
        "# correlate the coactivity matrices below the diagonal\n",
        "trace_coact = pearsonr(\n",
        "    trace_corr1[np.tri(trace_corr1.shape[0], k=-1).astype(bool)],\n",
        "    trace_corr2[np.tri(trace_corr2.shape[0], k=-1).astype(bool)])[0]\n",
        "print(f'\\nCorrelation of trace coactivity on days {target_days+1}: {trace_coact}\\n')\n",
        "\n",
        "# plot the results\n",
        "sns.set(style='white', font_scale=1.5)\n",
        "plt.figure(figsize=(24, 12))\n",
        "ax = plt.subplot(121)\n",
        "mappable = ax.imshow(trace_corr1, vmin=0, vmax=.25, cmap='inferno')\n",
        "cbar = plt.colorbar(mappable, shrink=.7)\n",
        "cbar.ax.set_title('R', weight='bold')\n",
        "ax.set_ylabel('Neuron', weight='bold')\n",
        "ax.set_xlabel('Neuron', weight='bold')\n",
        "ax.set_title(f'Day {target_days[0]+1}', weight='bold')\n",
        "ax = plt.subplot(122)\n",
        "mappable = ax.imshow(trace_corr2, vmin=0, vmax=.25, cmap='inferno')\n",
        "cbar = plt.colorbar(mappable, shrink=.7)\n",
        "cbar.ax.set_title('R', weight='bold')\n",
        "ax.set_ylabel('Neuron', weight='bold')\n",
        "ax.set_xlabel('Neuron', weight='bold')\n",
        "ax.set_title(f'Day {target_days[1]+1}', weight='bold')\n",
        "plt.show()"
      ]
    },
    {
      "cell_type": "code",
      "execution_count": 11,
      "metadata": {
        "id": "s77kul9p2dN4"
      },
      "outputs": [],
      "source": [
        "# now try a pair of target days that are not from same shape (delay of 11 days)\n",
        "target_days = np.array([13, 24])\n",
        "reg_mask = ~np.isnan(data[animal]['trace'][target_days].sum(0).sum(1))\n",
        "trace_corr1 = np.corrcoef(data[animal]['trace'][target_days[0], reg_mask])\n",
        "trace_corr2 = np.corrcoef(data[animal]['trace'][target_days[1], reg_mask])\n",
        "\n",
        "trace_coact = pearsonr(\n",
        "    trace_corr1[np.tri(trace_corr1.shape[0], k=-1).astype(bool)],\n",
        "    trace_corr2[np.tri(trace_corr2.shape[0], k=-1).astype(bool)])[0]\n",
        "print(f'\\nCorrelation of trace coactivity on days {target_days+1}: {trace_coact}\\n')\n",
        "\n",
        "plt.figure(figsize=(24, 12))\n",
        "ax = plt.subplot(121)\n",
        "mappable = ax.imshow(trace_corr1, vmin=0, vmax=.25, cmap='inferno')\n",
        "cbar = plt.colorbar(mappable, shrink=.7)\n",
        "cbar.ax.set_title('R', weight='bold')\n",
        "ax.set_ylabel('Neuron', weight='bold')\n",
        "ax.set_xlabel('Neuron', weight='bold')\n",
        "ax.set_title(f'Day {target_days[0]+1}', weight='bold')\n",
        "ax = plt.subplot(122)\n",
        "mappable = ax.imshow(trace_corr2, vmin=0, vmax=.25, cmap='inferno')\n",
        "cbar = plt.colorbar(mappable, shrink=.7)\n",
        "cbar.ax.set_title('R', weight='bold')\n",
        "ax.set_ylabel('Neuron', weight='bold')\n",
        "ax.set_xlabel('Neuron', weight='bold')\n",
        "ax.set_title(f'Day {target_days[1]+1}', weight='bold')\n",
        "plt.show()"
      ]
    },
    {
      "cell_type": "markdown",
      "metadata": {
        "id": "p-eFnqizWf5E"
      },
      "source": [
        "### **Now build out this routine to compare the pattern of coactivity across all pairs of days**"
      ]
    },
    {
      "cell_type": "code",
      "execution_count": 12,
      "metadata": {
        "id": "pmgVx2AVWoBQ"
      },
      "outputs": [],
      "source": [
        "# small function to temoprally bin traces\n",
        "def bin_traces(traces, bin_size=60):\n",
        "  pooling = torch.nn.AvgPool1d(bin_size, stride=bin_size)\n",
        "  traces = pooling(torch.from_numpy(traces)).numpy()\n",
        "  return traces\n",
        "\n",
        "# initialize the n_days x n_days matrix to store all coactivity correlations\n",
        "trace_coact_rsm = np.zeros([n_days, n_days])\n",
        "# iterate through all pairs of days\n",
        "for d1 in tqdm(range(n_days), position=0, leave=True,\n",
        "               desc='Calculating similarity of coactivity across all days'):\n",
        "  for d2 in range(n_days):\n",
        "    # mask out any unregistered cells on pair of days\n",
        "    target_days = np.array([d1, d2])\n",
        "    reg_mask = np.all(~np.isnan(data[animal]['trace'][target_days][:, :, 0]),\n",
        "                             axis=0)\n",
        "    # temporally bin down the traces to 0.5 sec average bins (save compute)\n",
        "    trace_corr1 = np.corrcoef(bin_traces(data[animal]['trace'][target_days[0],\n",
        "                                                               reg_mask]))\n",
        "    trace_corr1 = trace_corr1[np.tri(trace_corr1.shape[0], k=-1).astype(bool)]\n",
        "    trace_corr2 = np.corrcoef(bin_traces(data[animal]['trace'][target_days[1],\n",
        "                                                               reg_mask]))\n",
        "    trace_corr2 = trace_corr2[np.tri(trace_corr2.shape[0], k=-1).astype(bool)]\n",
        "    coact_mask = ~np.isnan(trace_corr1 + trace_corr2)\n",
        "    trace_coact_rsm[d1, d2] = pearsonr(trace_corr1[coact_mask],\n",
        "                                       trace_corr2[coact_mask])[0]"
      ]
    },
    {
      "cell_type": "markdown",
      "source": [
        "###**Plot the trace coactivity RSM result. How does compare to the rate-map based result?**"
      ],
      "metadata": {
        "id": "hSaSaXAt545G"
      }
    },
    {
      "cell_type": "code",
      "execution_count": 13,
      "metadata": {
        "id": "HntK9kZFXvNc"
      },
      "outputs": [],
      "source": [
        "sns.set(style='dark', font_scale = 2.)\n",
        "plt.figure(figsize=(10, 10))\n",
        "ax = plt.subplot()\n",
        "mappable = ax.imshow(trace_coact_rsm, vmin=0, vmax=.6, cmap='inferno')\n",
        "ax.set_xticks(np.arange(0, n_days, 5))\n",
        "ax.set_xticklabels(np.arange(1, n_days + 1, 5))\n",
        "ax.set_yticks(np.arange(0, n_days, 5))\n",
        "ax.set_yticklabels(np.arange(1, n_days + 1, 5))\n",
        "ax.set_title('Trace coactivity similarity', weight='bold')\n",
        "ax.set_ylabel('Day', weight='bold')\n",
        "ax.set_xlabel('Day', weight='bold')\n",
        "cbar = plt.colorbar(mappable, shrink=.7)\n",
        "cbar.ax.set_title('R', weight='bold')\n",
        "plt.show()"
      ]
    },
    {
      "cell_type": "markdown",
      "metadata": {
        "id": "PixZCdUL0f7U"
      },
      "source": [
        "### **Put all RSMs together into a single dictionary, and re-plot with MDS embeddings below, showing the effects of time and shape on the representation**"
      ]
    },
    {
      "cell_type": "code",
      "execution_count": null,
      "metadata": {
        "id": "fLN1HK5FxvwV"
      },
      "outputs": [],
      "source": [
        "'''\n",
        "***\n",
        "Complete the dictionary fields with the corresponding ratemaps result calculated\n",
        "above, based on the firing rate, rate map, and trace correlations.\n",
        "***\n",
        "'''\n",
        "rsm = {'animal': animal,\n",
        "       'envs': data[animal]['envs'],\n",
        "       'firing_rate': ,\n",
        "       'rate_map': ,\n",
        "       'trace': }"
      ]
    },
    {
      "cell_type": "code",
      "source": [
        "#@title ####*answers*\n",
        "\n",
        "# rsm = {'animal': animal,\n",
        "#        'envs': data[animal]['envs'],\n",
        "#        'firing_rate': mean_fr_rsm,\n",
        "#        'rate_map': rate_map_rsm,\n",
        "#        'trace': trace_coact_rsm}"
      ],
      "metadata": {
        "cellView": "form",
        "id": "JkyYkDFW6TSO"
      },
      "execution_count": null,
      "outputs": []
    },
    {
      "cell_type": "markdown",
      "source": [
        "### **Plot all of the ratemap RSMs side-by-side, and MDS embeddings to visualize relative structure in each representation.**"
      ],
      "metadata": {
        "id": "7zx-CWLZ6srm"
      }
    },
    {
      "cell_type": "code",
      "execution_count": 14,
      "metadata": {
        "id": "cwVa6kRex4mz"
      },
      "outputs": [],
      "source": [
        "plot_rsm_mds(rsm)"
      ]
    }
  ],
  "metadata": {
    "colab": {
      "provenance": [],
      "include_colab_link": true
    },
    "kernelspec": {
      "display_name": "Python 3",
      "name": "python3"
    },
    "language_info": {
      "name": "python"
    }
  },
  "nbformat": 4,
  "nbformat_minor": 0
}